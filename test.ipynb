{
  "nbformat": 4,
  "nbformat_minor": 0,
  "metadata": {
    "colab": {
      "provenance": [],
      "gpuType": "T4",
      "authorship_tag": "ABX9TyOk8aApY9MZsha+u6dR6Z0u",
      "include_colab_link": true
    },
    "kernelspec": {
      "name": "python3",
      "display_name": "Python 3"
    },
    "language_info": {
      "name": "python"
    },
    "accelerator": "GPU"
  },
  "cells": [
    {
      "cell_type": "markdown",
      "metadata": {
        "id": "view-in-github",
        "colab_type": "text"
      },
      "source": [
        "<a href=\"https://colab.research.google.com/github/infocz-lucy/colab-test/blob/main/test.ipynb\" target=\"_parent\"><img src=\"https://colab.research.google.com/assets/colab-badge.svg\" alt=\"Open In Colab\"/></a>"
      ]
    },
    {
      "cell_type": "code",
      "execution_count": null,
      "metadata": {
        "id": "drnnIu3c5xdn"
      },
      "outputs": [],
      "source": [
        "# PDF 처리 및 OCR\n",
        "!pip install pdfplumber pdf2image pytesseract\n",
        "\n",
        "# DOCX 처리\n",
        "!pip install python-docx\n",
        "\n",
        "# 텍스트 전처리\n",
        "!pip install konlpy nltk spacy transformers\n",
        "\n",
        "# RDF 변환\n",
        "!pip install rdflib\n",
        "\n",
        "# Neo4j Python 드라이버\n",
        "!pip install neo4j\n",
        "\n",
        "# OpenAI API\n",
        "!pip install openai\n",
        "\n",
        "# 한국어 형태소 분석기 Mecab 설치 (Google Colab 전용)\n",
        "!apt-get update\n",
        "!apt-get install g++ openjdk-8-jdk\n",
        "!pip3 install konlpy JPype1-py3\n",
        "!bash <(curl -s https://raw.githubusercontent.com/konlpy/konlpy/master/scripts/mecab.sh)\n",
        "\n",
        "# mecab-python의 버전 오류로 인해 아래 패키지를 설치하면 코랩에서 Mecab을 사용가능\n",
        "!pip install mecab-python3\n",
        "\n",
        "# SpaCy 영어 모델 다운로드\n",
        "!python -m spacy download en_core_web_sm\n"
      ]
    },
    {
      "cell_type": "code",
      "source": [
        "!pip install transformers"
      ],
      "metadata": {
        "id": "Co3i6KkNa4Bx"
      },
      "execution_count": null,
      "outputs": []
    },
    {
      "cell_type": "code",
      "source": [
        "# 필요한 라이브러리 임포트\n",
        "import pdfplumber\n",
        "import pytesseract\n",
        "from pdf2image import convert_from_path\n",
        "from docx import Document\n",
        "from konlpy.tag import Mecab\n",
        "import re\n",
        "from nltk.corpus import stopwords\n",
        "import nltk\n",
        "import spacy\n",
        "\n",
        "# 한국어 형태소 분석기 및 영어 NLP 모델 로드\n",
        "mecab = Mecab()\n",
        "nlp_en = spacy.load(\"en_core_web_sm\")\n",
        "nltk.download(\"stopwords\")\n",
        "stopwords_en = set(stopwords.words(\"english\"))\n",
        "\n",
        "# 예시 PDF 및 DOCX 파일 경로\n",
        "pdf_path = \"/content/sample_data/raw2.pdf\"\n",
        "docx_path = \"example.docx\"\n",
        "\n",
        "# PDF 추출 및 OCR\n",
        "def extract_text_from_pdf(pdf_path):\n",
        "    text = \"\"\n",
        "    with pdfplumber.open(pdf_path) as pdf:\n",
        "        for page in pdf.pages:\n",
        "            text += page.extract_text() or \"\"\n",
        "    if not text:  # PDF가 이미지인 경우 OCR 사용\n",
        "        images = convert_from_path(pdf_path, 500)\n",
        "        for img in images:\n",
        "            text += pytesseract.image_to_string(img, lang=\"kor+eng\")\n",
        "    return text.strip()\n",
        "\n",
        "# DOCX 추출\n",
        "def extract_text_from_docx(docx_path):\n",
        "    doc = Document(docx_path)\n",
        "    return \"\\n\".join([para.text for para in doc.paragraphs])\n",
        "\n",
        "# 텍스트 전처리 (한국어)\n",
        "def preprocess_korean(text):\n",
        "    text = re.sub(r\"[^가-힣\\s]\", \"\", text)\n",
        "    tokens = mecab.morphs(text)\n",
        "    return tokens\n",
        "\n",
        "# 텍스트 전처리 (영어)\n",
        "def preprocess_english(text):\n",
        "    text = re.sub(r\"[^a-zA-Z\\s]\", \"\", text.lower())\n",
        "    tokens = [word for word in text.split() if word not in stopwords_en]\n",
        "    return tokens\n",
        "\n",
        "# 엔티티 및 관계 추출\n",
        "def extract_entities_relations(text):\n",
        "    doc = nlp_en(text)\n",
        "    entities = [(ent.text, ent.label_) for ent in doc.ents]\n",
        "    relations = [token.lemma_ for token in doc if token.pos_ == \"VERB\"]\n",
        "    return entities, relations"
      ],
      "metadata": {
        "colab": {
          "base_uri": "https://localhost:8080/"
        },
        "id": "bTa841Xu9ky5",
        "outputId": "13479610-76e6-4b84-e52e-a1e70fec71e7"
      },
      "execution_count": 36,
      "outputs": [
        {
          "output_type": "stream",
          "name": "stderr",
          "text": [
            "/usr/local/lib/python3.10/dist-packages/spacy/util.py:1740: UserWarning: [W111] Jupyter notebook detected: if using `prefer_gpu()` or `require_gpu()`, include it in the same cell right before `spacy.load()` to ensure that the model is loaded on the correct device. More information: http://spacy.io/usage/v3#jupyter-notebook-gpu\n",
            "  warnings.warn(Warnings.W111)\n",
            "[nltk_data] Downloading package stopwords to /root/nltk_data...\n",
            "[nltk_data]   Package stopwords is already up-to-date!\n"
          ]
        }
      ]
    },
    {
      "cell_type": "code",
      "source": [],
      "metadata": {
        "id": "MkhSNwwsbLhF"
      },
      "execution_count": null,
      "outputs": []
    },
    {
      "cell_type": "code",
      "source": [
        "from transformers import AutoTokenizer, AutoModelForTokenClassification\n",
        "from transformers import pipeline\n",
        "\n",
        "# KoBERT 모델을 사용한 예제\n",
        "tokenizer = AutoTokenizer.from_pretrained(\"monologg/koelectra-base-v3-finetuned-korquad\")\n",
        "model = AutoModelForTokenClassification.from_pretrained(\"monologg/koelectra-base-v3-finetuned-korquad\")\n",
        "\n",
        "nlp = pipeline(\"ner\", model=model, tokenizer=tokenizer)\n",
        "\n",
        "def extract_entities(text):\n",
        "    entities = nlp(text)\n",
        "    return [(entity['word'], entity['entity']) for entity in entities]\n",
        "\n",
        "# 데이터 추출 및 전처리 실행\n",
        "text_pdf = extract_text_from_pdf(pdf_path)\n",
        "\n",
        "# Example usage\n",
        "entities = extract_entities(text_pdf)\n",
        "print(entities)\n",
        "print(text_pdf)"
      ],
      "metadata": {
        "colab": {
          "base_uri": "https://localhost:8080/"
        },
        "id": "QthvfbTQa-Cc",
        "outputId": "f585b2e1-8970-4ac0-b7d2-02b01fb10f05"
      },
      "execution_count": 38,
      "outputs": [
        {
          "output_type": "stream",
          "name": "stderr",
          "text": [
            "Some weights of ElectraForTokenClassification were not initialized from the model checkpoint at monologg/koelectra-base-v3-finetuned-korquad and are newly initialized: ['classifier.bias', 'classifier.weight']\n",
            "You should probably TRAIN this model on a down-stream task to be able to use it for predictions and inference.\n",
            "Asking to truncate to max_length but no maximum length is provided and the model has no predefined maximum length. Default to no truncation.\n"
          ]
        },
        {
          "output_type": "stream",
          "name": "stdout",
          "text": [
            "[('10', 'LABEL_0'), (',', 'LABEL_0'), ('O', 'LABEL_0'), ('##ct', 'LABEL_0'), ('.', 'LABEL_0'), ('29', 'LABEL_0'), (',', 'LABEL_0'), ('1987', 'LABEL_0'), ('제', 'LABEL_0'), ('##1', 'LABEL_0'), ('##장', 'LABEL_0'), ('총', 'LABEL_1'), ('##강', 'LABEL_1'), ('제', 'LABEL_0'), ('##1', 'LABEL_0'), ('##조', 'LABEL_0'), ('①', 'LABEL_0'), ('##대', 'LABEL_0'), ('##한', 'LABEL_0'), ('##민국', 'LABEL_0'), ('##은', 'LABEL_0'), ('민주', 'LABEL_0'), ('##공화국', 'LABEL_0'), ('##이다', 'LABEL_0'), ('.', 'LABEL_0'), ('②', 'LABEL_0'), ('##대', 'LABEL_0'), ('##한', 'LABEL_0'), ('##민국', 'LABEL_0'), ('##의', 'LABEL_0'), ('주권', 'LABEL_0'), ('##은', 'LABEL_0'), ('국민', 'LABEL_0'), ('##에', 'LABEL_0'), ('##게', 'LABEL_0'), ('있', 'LABEL_0'), ('##고', 'LABEL_0'), (',', 'LABEL_0'), ('모든', 'LABEL_0'), ('권력', 'LABEL_0'), ('##은', 'LABEL_0'), ('국민', 'LABEL_0'), ('##으로', 'LABEL_0'), ('##부터', 'LABEL_0'), ('나온다', 'LABEL_0'), ('.', 'LABEL_0'), ('제', 'LABEL_0'), ('##2', 'LABEL_0'), ('##조', 'LABEL_0'), ('①', 'LABEL_0'), ('##대', 'LABEL_0'), ('##한', 'LABEL_0'), ('##민국', 'LABEL_0'), ('##의', 'LABEL_0'), ('국민', 'LABEL_0'), ('##이', 'LABEL_0'), ('되', 'LABEL_0'), ('##는', 'LABEL_0'), ('요건', 'LABEL_0'), ('##은', 'LABEL_0'), ('법률', 'LABEL_0'), ('##로', 'LABEL_0'), ('정한다', 'LABEL_0'), ('.', 'LABEL_0'), ('②', 'LABEL_0'), ('##국', 'LABEL_0'), ('##가', 'LABEL_0'), ('##는', 'LABEL_0'), ('법률', 'LABEL_0'), ('##이', 'LABEL_0'), ('정하', 'LABEL_0'), ('##는', 'LABEL_0'), ('바에', 'LABEL_0'), ('의하', 'LABEL_0'), ('##여', 'LABEL_0'), ('재외', 'LABEL_0'), ('##국', 'LABEL_0'), ('##민', 'LABEL_0'), ('##을', 'LABEL_0'), ('보호', 'LABEL_0'), ('##할', 'LABEL_0'), ('의무', 'LABEL_0'), ('##를', 'LABEL_0'), ('진다', 'LABEL_0'), ('.', 'LABEL_0'), ('제', 'LABEL_1'), ('##3', 'LABEL_0'), ('##조', 'LABEL_0'), ('대한민국', 'LABEL_0'), ('##의', 'LABEL_0'), ('영토', 'LABEL_0'), ('##는', 'LABEL_0'), ('한반도', 'LABEL_0'), ('##와', 'LABEL_0'), ('그', 'LABEL_0'), ('부속', 'LABEL_0'), ('##도', 'LABEL_0'), ('##서', 'LABEL_0'), ('##로', 'LABEL_0'), ('한다', 'LABEL_0'), ('.', 'LABEL_0')]\n",
            "10 , Oct. 29, 1987\n",
            "제1장 총강\n",
            "제1조\n",
            "①대한민국은 민주공화국이다.\n",
            "②대한민국의 주권은 국민에게 있고, 모든 권력은 국민으로부터 나온다.\n",
            "제2조\n",
            "①대한민국의 국민이 되는 요건은 법률로 정한다.\n",
            "②국가는 법률이 정하는 바에 의하여 재외국민을 보호할 의무를 진다.\n",
            "제3조\n",
            "대한민국의 영토는 한반도와 그 부속도서로 한다.\n"
          ]
        }
      ]
    },
    {
      "cell_type": "code",
      "source": [
        "# 데이터 추출 및 전처리 실행\n",
        "text_pdf = extract_text_from_pdf(pdf_path)\n",
        "# text_docx = extract_text_from_docx(docx_path)\n",
        "\n",
        "tokens_pdf_ko = preprocess_korean(text_pdf)\n",
        "tokens_pdf_en = preprocess_english(text_pdf)\n",
        "\n",
        "# tokens_docx_ko = preprocess_korean(text_docx)\n",
        "# tokens_docx_en = preprocess_english(text_docx)\n",
        "\n",
        "# 엔티티 및 관계 추출\n",
        "entities, relations = extract_entities_relations(text_pdf)\n",
        "\n",
        "\n",
        "print('text-pdf: ', text_pdf)\n",
        "# print(\"PDF 한국어 토큰:\", tokens_pdf_ko)\n",
        "# print(\"PDF 영어 토큰:\", tokens_pdf_en)\n",
        "# print(\"Extracted Entities:\", entities)\n",
        "# print(\"Extracted Relations:\", relations)\n",
        "\n",
        "# print(\"DOCX 한국어 토큰:\", tokens_docx_ko)\n",
        "# print(\"DOCX 영어 토큰:\", tokens_docx_en)"
      ],
      "metadata": {
        "colab": {
          "base_uri": "https://localhost:8080/"
        },
        "id": "FDSdORBaMsGj",
        "outputId": "7daf2a0e-feea-412e-f31d-6264e69dd2c6"
      },
      "execution_count": 32,
      "outputs": [
        {
          "output_type": "stream",
          "name": "stdout",
          "text": [
            "text-pdf:  CONSTITUTION OF THE REPUBLIC OF KOREA\n",
            "Wholly Amended by Constitution No. 10, Oct. 29, 1987\n",
            "CHAPTER I GENERAL PROVISIONS\n",
            "제1장 총강\n",
            "Article 1\n",
            "(1) The Republic of Korea shall be a democratic republic.\n",
            "(2) The sovereignty of the Republic of Korea shall reside in the people, and all state authority shall\n",
            "emanate from the people.\n",
            "제1조\n",
            "①대한민국은 민주공화국이다.\n",
            "②대한민국의 주권은 국민에게 있고, 모든 권력은 국민으로부터 나온다.\n",
            "Article 2\n",
            "(1) Nationality in the Republic of Korea shall be prescribed by Act.\n",
            "(2) It shall be the duty of the State to protect citizens residing abroad as prescribed by Act.\n",
            "제2조\n",
            "①대한민국의 국민이 되는 요건은 법률로 정한다.\n",
            "②국가는 법률이 정하는 바에 의하여 재외국민을 보호할 의무를 진다.\n",
            "Article 3\n",
            "The territory of the Republic of Korea shall consist of the Korean peninsula and its adjacent islands.\n",
            "제3조\n",
            "대한민국의 영토는 한반도와 그 부속도서로 한다.Article 4\n",
            "The Republic of Korea shall seek unification and shall formulate and carry out a policy of peaceful\n",
            "unification based on the basic free and democratic order.\n",
            "제4조\n",
            "대한민국은 통일을 지향하며, 자유민주적 기본질서에 입각한 평화적 통일 정책을 수립하고 이를\n",
            "추진한다.\n",
            "Article 5\n",
            "(1) The Republic of Korea shall endeavor to maintain international peace and shall renounce all aggressive\n",
            "wars.\n",
            "(2) The Armed Forces shall be charged with the sacred mission of national security and the defense of the\n",
            "land and their political neutrality shall be maintained.\n",
            "제5조\n",
            "①대한민국은 국제평화의 유지에 노력하고 침략적 전쟁을 부인한다.\n",
            "②국군은 국가의 안전보장과 국토방위의 신성한 의무를 수행함을 사명으로 하며, 그 정치적 중\n",
            "립성은 준수된다.\n",
            "Article 6\n",
            "(1) Treaties duly concluded and promulgated under the Constitution and the generally recognized rules of\n",
            "international law shall have the same effect as the domestic laws of the Republic of Korea.\n",
            "(2) The status of aliens shall be guaranteed as prescribed by international law and treaties.\n",
            "제6조\n",
            "①헌법에 의하여 체결공포된 조약과 일반적으로 승인된 국제법규는 국내법과 같은 효력을 가\n",
            "진다.\n",
            "②외국인은 국제법과 조약이 정하는 바에 의하여 그 지위가 보장된다.\n",
            "Article 7\n",
            "(1) All public officials shall be servants of the entire people and shall be responsible to the people.\n",
            "(2) The status and political impartiality of public officials shall be guaranteed as prescribed by Act.\n",
            "제7조\n",
            "①공무원은 국민전체에 대한 봉사자이며, 국민에 대하여 책임을 진다.\n",
            "②공무원의 신분과 정치적 중립성은 법률이 정하는 바에 의하여 보장된다.Article 8\n",
            "(1) The establishment of political parties shall be free, and the plural party system shall be guaranteed.\n",
            "(2) Political parties shall be democratic in their objectives, organization and activities, and shall have the\n",
            "necessary organizational arrangements for the people to participate in the formation of the political will.\n",
            "(3) Political parties shall enjoy the protection of the State and may be provided with operational funds by\n",
            "the State under the conditions as prescribed by Act.\n",
            "(4) If the purposes or activities of a political party are contrary to the fundamental democratic order, the\n",
            "Government may bring an action against it in the Constitutional Court for its dissolution, and the political\n",
            "party shall be dissolved in accordance with the decision of the Constitutional Court.\n",
            "제8조\n",
            "①정당의 설립은 자유이며, 복수정당제는 보장된다.\n",
            "②정당은 그 목적조직과 활동이 민주적이어야 하며, 국민의 정치적 의사형성에 참여하는데 필\n",
            "요한 조직을 가져야 한다.\n",
            "③정당은 법률이 정하는 바에 의하여 국가의 보호를 받으며, 국가는 법률이 정하는 바에 의하여\n",
            "정당운영에 필요한 자금을 보조할 수 있다.\n",
            "④정당의 목적이나 활동이 민주적 기본질서에 위배될 때에는 정부는 헌법재판소에 그 해산을 제\n",
            "소할 수 있고, 정당은 헌법재판소의 심판에 의하여 해산된다.\n",
            "Article 9\n",
            "The State shall strive to sustain and develop the cultural heritage and to enhance national culture.\n",
            "제9조\n",
            "국가는 전통문화의 계승발전과 민족문화의 창달에 노력하여야 한다.\n",
            "CHAPTER II RIGHTS AND DUTIES OF CITIZENS\n",
            "제2장 국민의 권리와 의무\n",
            "Last updated : 2018-06-08\n"
          ]
        }
      ]
    },
    {
      "cell_type": "code",
      "source": [],
      "metadata": {
        "id": "2L4DGQ-pTkIG"
      },
      "execution_count": null,
      "outputs": []
    }
  ]
}